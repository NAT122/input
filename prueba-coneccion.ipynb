{
 "cells": [
  {
   "cell_type": "code",
   "execution_count": 1,
   "metadata": {},
   "outputs": [
    {
     "name": "stdout",
     "output_type": "stream",
     "text": [
      "Requirement already satisfied: pyserial in c:\\users\\usuario\\appdata\\local\\programs\\python\\python311\\lib\\site-packages (3.5)Note: you may need to restart the kernel to use updated packages.\n",
      "\n"
     ]
    }
   ],
   "source": [
    "pip install pyserial"
   ]
  },
  {
   "cell_type": "code",
   "execution_count": 5,
   "metadata": {},
   "outputs": [],
   "source": [
    "import os"
   ]
  },
  {
   "cell_type": "code",
   "execution_count": 6,
   "metadata": {},
   "outputs": [],
   "source": [
    "\n",
    "\n",
    "# Texto que quieres imprimir\n",
    "texto = \"Hello World\"\n",
    "\n",
    "# Guardar el texto en un archivo temporal\n",
    "with open(\"temp.txt\", \"w\") as archivo:\n",
    "    archivo.write(texto)\n",
    "\n",
    "# Enviar el archivo a la impresora por defecto\n",
    "os.system('notepad /p temp.txt')\n",
    "\n",
    "# Eliminar el archivo temporal\n",
    "os.remove(\"temp.txt\")"
   ]
  },
  {
   "cell_type": "code",
   "execution_count": 7,
   "metadata": {},
   "outputs": [
    {
     "name": "stdout",
     "output_type": "stream",
     "text": [
      "Requirement already satisfied: pywin32 in c:\\users\\usuario\\appdata\\roaming\\python\\python311\\site-packages (306)\n",
      "Note: you may need to restart the kernel to use updated packages.\n"
     ]
    }
   ],
   "source": [
    "pip install pywin32"
   ]
  },
  {
   "cell_type": "code",
   "execution_count": 8,
   "metadata": {},
   "outputs": [],
   "source": [
    "import win32print\n",
    "import win32api\n",
    "\n"
   ]
  },
  {
   "cell_type": "code",
   "execution_count": null,
   "metadata": {},
   "outputs": [],
   "source": [
    "# Nombre de la impresora (puedes obtenerlo desde la configuración de impresoras de Windows)\n",
    "nombre_impresora = win32print.GetDefaultPrinter()\n",
    "\n",
    "# Abrir la impresora\n",
    "impresora = win32print.OpenPrinter(nombre_impresora)\n",
    "\n",
    "# Crear un trabajo de impresión\n",
    "try:\n",
    "    win32print.StartDocPrinter(impresora, 1, (\"Documento de prueba\", None, \"RAW\"))\n",
    "    win32print.StartPagePrinter(impresora)\n",
    "\n",
    "    # Texto que quieres imprimir\n",
    "    texto = \"Hello World\\n\".encode('utf-8')\n",
    "\n",
    "    # Enviar el texto a la impresora\n",
    "    win32print.WritePrinter(impresora, texto)\n",
    "\n",
    "    # Finalizar el trabajo de impresión\n",
    "    win32print.EndPagePrinter(impresora)\n",
    "    win32print.EndDocPrinter(impresora)\n",
    "\n",
    "finally:\n",
    "    # Cerrar la impresora\n",
    "    win32print.ClosePrinter(impresora)"
   ]
  },
  {
   "cell_type": "code",
   "execution_count": 11,
   "metadata": {},
   "outputs": [
    {
     "ename": "SyntaxError",
     "evalue": "invalid syntax (367034029.py, line 1)",
     "output_type": "error",
     "traceback": [
      "\u001b[1;36m  Cell \u001b[1;32mIn[11], line 1\u001b[1;36m\u001b[0m\n\u001b[1;33m    python imprimir.py\u001b[0m\n\u001b[1;37m           ^\u001b[0m\n\u001b[1;31mSyntaxError\u001b[0m\u001b[1;31m:\u001b[0m invalid syntax\n"
     ]
    }
   ],
   "source": [
    "python imprimir.py"
   ]
  }
 ],
 "metadata": {
  "kernelspec": {
   "display_name": "Python 3",
   "language": "python",
   "name": "python3"
  },
  "language_info": {
   "codemirror_mode": {
    "name": "ipython",
    "version": 3
   },
   "file_extension": ".py",
   "mimetype": "text/x-python",
   "name": "python",
   "nbconvert_exporter": "python",
   "pygments_lexer": "ipython3",
   "version": "3.11.5"
  }
 },
 "nbformat": 4,
 "nbformat_minor": 2
}
