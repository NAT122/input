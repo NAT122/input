{
 "cells": [
  {
   "cell_type": "markdown",
   "metadata": {},
   "source": [
    "--OPCION UNO"
   ]
  },
  {
   "cell_type": "code",
   "execution_count": 3,
   "metadata": {},
   "outputs": [
    {
     "name": "stdout",
     "output_type": "stream",
     "text": [
      "Requirement already satisfied: pywin32 in c:\\users\\usuario\\appdata\\roaming\\python\\python311\\site-packages (306)Note: you may need to restart the kernel to use updated packages.\n",
      "\n"
     ]
    }
   ],
   "source": [
    "pip install pywin32"
   ]
  },
  {
   "cell_type": "code",
   "execution_count": 1,
   "metadata": {},
   "outputs": [
    {
     "name": "stdout",
     "output_type": "stream",
     "text": [
      "Requirement already satisfied: pyserial in c:\\users\\usuario\\appdata\\local\\programs\\python\\python311\\lib\\site-packages (3.5)\n",
      "Note: you may need to restart the kernel to use updated packages.\n"
     ]
    }
   ],
   "source": [
    "pip install pyserial"
   ]
  },
  {
   "cell_type": "code",
   "execution_count": 10,
   "metadata": {},
   "outputs": [],
   "source": [
    "\n",
    "\n",
    "# Texto que quieres imprimir\n",
    "texto = \"Hello World\"\n",
    "\n",
    "# Guardar el texto en un archivo temporal\n",
    "with open(\"temp.txt\", \"w\") as archivo:\n",
    "    archivo.write(texto)\n",
    "\n",
    "# Enviar el archivo a la impresora por defecto\n",
    "os.system('notepad /p temp.txt')\n",
    "\n",
    "# Eliminar el archivo temporal\n",
    "os.remove(\"temp.txt\")"
   ]
  },
  {
   "cell_type": "code",
   "execution_count": 2,
   "metadata": {},
   "outputs": [],
   "source": [
    "texto =r\"\"\"\n",
    "            .'/\n",
    "           / /\n",
    "          / /\n",
    "         / /\n",
    "        / /\n",
    "       / /\n",
    "      / /\n",
    "     / /         \n",
    "    / /          \n",
    "  __|/\n",
    ",-\\__\\\n",
    "|f-\"Y\\|\n",
    "\\()7L/\n",
    " cgD                            __ _\n",
    " |\\(                          .'  Y '>,\n",
    "  \\ \\                        / _   _   \\\n",
    "   \\\\\\                       )(_) (_)(|}\n",
    "    \\\\\\         se sige!     {  4A   } /\n",
    "     \\\\\\                      \\uLuJJ/\\l\n",
    "      \\\\\\                     |3    p)/\n",
    "       \\\\\\___ __________      /nnm_n//\n",
    "       c7___-__,__-)\\,__)(\".  \\_>-<_/D\n",
    "                  //V     \\_\"-._.__G G_c__.-__<\"/ ( \\\n",
    "                         <\"-._>__-,G_.___)\\   \\7\\\n",
    "                        (\"-.__.| \\\"<.__.-\" )   \\ \\\n",
    "                        |\"-.__\"\\  |\"-.__.-\".\\   \\ \\\n",
    "                        (\"-.__\"\". \\\"-.__.-\".|    \\_\\\n",
    "                        \\\"-.__\"\"|!|\"-.__.-\".)     \\ \\\n",
    "                         \"-.__\"\"\\_|\"-.__.-\"./      \\ l\n",
    "                          \".__\"\">G>-__\">       .--,_\n",
    "                                \n",
    "  \"\"\""
   ]
  },
  {
   "cell_type": "code",
   "execution_count": 3,
   "metadata": {},
   "outputs": [],
   "source": [
    "\n",
    "\n",
    "# Guardar el texto en un archivo temporal\n",
    "with open(\"temp.txt\", \"w\") as archivo:\n",
    "    archivo.write(texto)\n",
    "\n",
    "# Enviar el archivo a la impresora por defecto\n",
    "os.system('notepad /p temp.txt')\n",
    "\n",
    "# Eliminar el archivo temporal\n",
    "os.remove(\"temp.txt\")"
   ]
  },
  {
   "cell_type": "markdown",
   "metadata": {},
   "source": [
    "--OPCION DOS"
   ]
  },
  {
   "cell_type": "code",
   "execution_count": 2,
   "metadata": {},
   "outputs": [],
   "source": [
    "import win32print\n",
    "import win32api\n",
    "\n"
   ]
  },
  {
   "cell_type": "code",
   "execution_count": 8,
   "metadata": {},
   "outputs": [],
   "source": [
    "# Nombre de la impresora (puedes obtenerlo desde la configuración de impresoras de Windows)\n",
    "nombre_impresora = win32print.GetDefaultPrinter()\n",
    "\n",
    "# Abrir la impresora\n",
    "impresora = win32print.OpenPrinter(nombre_impresora)\n",
    "\n",
    "# Crear un trabajo de impresión\n",
    "try:\n",
    "    win32print.StartDocPrinter(impresora, 1, (\"Documento de prueba\", None, \"RAW\"))\n",
    "    win32print.StartPagePrinter(impresora)\n",
    "\n",
    "    # Texto que quieres imprimir\n",
    "    texto = \"Hello World\\n\".encode('utf-8')\n",
    "\n",
    "    # Enviar el texto a la impresora\n",
    "    win32print.WritePrinter(impresora, texto)\n",
    "\n",
    "    # Finalizar el trabajo de impresión\n",
    "    win32print.EndPagePrinter(impresora)\n",
    "    win32print.EndDocPrinter(impresora)\n",
    "\n",
    "finally:\n",
    "    # Cerrar la impresora\n",
    "    win32print.ClosePrinter(impresora)"
   ]
  },
  {
   "cell_type": "code",
   "execution_count": 3,
   "metadata": {},
   "outputs": [],
   "source": [
    "# Nombre de la impresora (puedes obtenerlo desde la configuración de impresoras de Windows)\n",
    "nombre_impresora = win32print.GetDefaultPrinter()\n",
    "\n",
    "# Abrir la impresora\n",
    "impresora = win32print.OpenPrinter(nombre_impresora)\n",
    "\n",
    "# Crear un trabajo de impresión\n",
    "try:\n",
    "    win32print.StartDocPrinter(impresora, 1, (\"Documento de prueba\", None, \"RAW\"))\n",
    "    win32print.StartPagePrinter(impresora)\n",
    "\n",
    "    # Texto que quieres imprimir\n",
    "    texto = texto =r\"\"\"\n",
    "            .'/\n",
    "           / /\n",
    "          / /\n",
    "         / /\n",
    "        / /\n",
    "       / /\n",
    "      / /\n",
    "     / /         \n",
    "    / /          \n",
    "  __|/\n",
    ",-\\__\\\n",
    "|f-\"Y\\|\n",
    "\\()7L/\n",
    " cgD                            __ _\n",
    " |\\(                          .'  Y '>,\n",
    "  \\ \\                        / _   _   \\\n",
    "   \\\\\\                       )(_) (_)(|}\n",
    "    \\\\\\         se sigue!     {  4A   } /\n",
    "     \\\\\\                      \\uLuJJ/\\l\n",
    "      \\\\\\                     |3    p)/\n",
    "       \\\\\\___ __________      /nnm_n//\n",
    "       c7___-__,__-)\\,__)(\".  \\_>-<_/D\n",
    "                  //V     \\_\"-._.__G G_c__.-__<\"/ ( \\\n",
    "                         <\"-._>__-,G_.___)\\   \\7\\\n",
    "                        (\"-.__.| \\\"<.__.-\" )   \\ \\\n",
    "                        |\"-.__\"\\  |\"-.__.-\".\\   \\ \\\n",
    "                        (\"-.__\"\". \\\"-.__.-\".|    \\_\\\n",
    "                        \\\"-.__\"\"|!|\"-.__.-\".)     \\ \\\n",
    "                         \"-.__\"\"\\_|\"-.__.-\"./      \\ l\n",
    "                          \".__\"\">G>-__\">       .--,_\n",
    "\"\"\".encode('utf-8')\n",
    "\n",
    "    # Enviar el texto a la impresora\n",
    "    win32print.WritePrinter(impresora, texto)\n",
    "\n",
    "    # Finalizar el trabajo de impresión\n",
    "    win32print.EndPagePrinter(impresora)\n",
    "    win32print.EndDocPrinter(impresora)\n",
    "\n",
    "finally:\n",
    "    # Cerrar la impresora\n",
    "    win32print.ClosePrinter(impresora)"
   ]
  }
 ],
 "metadata": {
  "kernelspec": {
   "display_name": "Python 3",
   "language": "python",
   "name": "python3"
  },
  "language_info": {
   "codemirror_mode": {
    "name": "ipython",
    "version": 3
   },
   "file_extension": ".py",
   "mimetype": "text/x-python",
   "name": "python",
   "nbconvert_exporter": "python",
   "pygments_lexer": "ipython3",
   "version": "3.11.5"
  }
 },
 "nbformat": 4,
 "nbformat_minor": 2
}
